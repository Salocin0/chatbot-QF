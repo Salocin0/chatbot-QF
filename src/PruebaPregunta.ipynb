{
 "cells": [
  {
   "cell_type": "code",
   "execution_count": 3,
   "metadata": {},
   "outputs": [],
   "source": [
    "from transformers import BertTokenizer\n",
    "import torch\n",
    "from transformers import AutoModelForQuestionAnswering\n",
    "\n",
    "model_directory = \"./models/1.2/\"\n",
    "\n",
    "model = AutoModelForQuestionAnswering.from_pretrained(model_directory)\n",
    "tokenizer = BertTokenizer.from_pretrained('MMG/bert-base-spanish-wwm-cased-finetuned-squad2-es')"
   ]
  },
  {
   "cell_type": "code",
   "execution_count": 6,
   "metadata": {},
   "outputs": [
    {
     "name": "stdout",
     "output_type": "stream",
     "text": [
      "{'input_ids': tensor([[    4,  1038,  1058,  1108,  5164, 20724, 22221,  1064,     5,  1965,\n",
      "          9089,  8608,  3432, 22221,  1147, 23263,  1135,  1058,  1108,  3455,\n",
      "          1008,  5664, 11433,  1036, 20724,  3520,  1110, 13553,  1030,  5664,\n",
      "          8747,  1391,  1030,  4930,  1042,  1040,  3845,  1017,  1038, 22184,\n",
      "          1013,  5747, 19596,  1009,  1440,  2439,  1008,   982,  6801,  1009,\n",
      "          1949,  3455,  1058,  6277,  1110,  8936,  1089, 21768,  1036,  2294,\n",
      "          7615, 26204,  1042,  1062,  6914,  1184,  2307,  1008,  3842,  1036,\n",
      "          3119,  7736, 20724, 30403,  1009,     5]]), 'token_type_ids': tensor([[0, 0, 0, 0, 0, 0, 0, 0, 0, 1, 1, 1, 1, 1, 1, 1, 1, 1, 1, 1, 1, 1, 1, 1,\n",
      "         1, 1, 1, 1, 1, 1, 1, 1, 1, 1, 1, 1, 1, 1, 1, 1, 1, 1, 1, 1, 1, 1, 1, 1,\n",
      "         1, 1, 1, 1, 1, 1, 1, 1, 1, 1, 1, 1, 1, 1, 1, 1, 1, 1, 1, 1, 1, 1, 1, 1,\n",
      "         1, 1, 1, 1]]), 'attention_mask': tensor([[1, 1, 1, 1, 1, 1, 1, 1, 1, 1, 1, 1, 1, 1, 1, 1, 1, 1, 1, 1, 1, 1, 1, 1,\n",
      "         1, 1, 1, 1, 1, 1, 1, 1, 1, 1, 1, 1, 1, 1, 1, 1, 1, 1, 1, 1, 1, 1, 1, 1,\n",
      "         1, 1, 1, 1, 1, 1, 1, 1, 1, 1, 1, 1, 1, 1, 1, 1, 1, 1, 1, 1, 1, 1, 1, 1,\n",
      "         1, 1, 1, 1]])}\n",
      "Answer: [CLS] que es una unidad astronómica? [SEP] Una Unidad Astronómica ( UA ) es una medida de distancia utilizada en\n"
     ]
    }
   ],
   "source": [
    "context = 'Una Unidad Astronómica (UA) es una medida de distancia utilizada en astronomía para representar la distancia promedio entre la Tierra y el Sol, que equivale a aproximadamente 149.6 millones de kilómetros. Esta medida es esencial para comprender las distancias en nuestro Sistema Solar y se utiliza como punto de referencia en muchas investigaciones astronómicas.'\n",
    "question = \"que es una unidad astronómica?\"\n",
    "\n",
    "\n",
    "# Tokenize the question and context\n",
    "inputs = tokenizer(question, context, return_tensors='pt')\n",
    "print (inputs)\n",
    "# Perform inference to obtain the start and end logits\n",
    "start_logits = model(**inputs).start_logits\n",
    "end_logits = model(**inputs).end_logits\n",
    "\n",
    "# Get the start and end indices of the answer\n",
    "start_index = torch.argmax(start_logits, dim=1).item()\n",
    "end_index = torch.argmax(end_logits, dim=1).item()\n",
    "\n",
    "# Extract a larger span of tokens for the answer\n",
    "max_answer_length = 20  # You can adjust this based on your needs\n",
    "start_index = max(0, start_index - max_answer_length // 2)\n",
    "end_index = min(len(inputs[\"input_ids\"][0]) - 1, end_index + max_answer_length // 2)\n",
    "\n",
    "# Get the answer in the original text\n",
    "answer = tokenizer.decode(inputs[\"input_ids\"][0][start_index:end_index+1])\n",
    "\n",
    "\n",
    "print(\"Answer:\", answer)"
   ]
  }
 ],
 "metadata": {
  "kernelspec": {
   "display_name": "Python 3",
   "language": "python",
   "name": "python3"
  },
  "language_info": {
   "codemirror_mode": {
    "name": "ipython",
    "version": 3
   },
   "file_extension": ".py",
   "mimetype": "text/x-python",
   "name": "python",
   "nbconvert_exporter": "python",
   "pygments_lexer": "ipython3",
   "version": "3.11.6"
  }
 },
 "nbformat": 4,
 "nbformat_minor": 2
}
